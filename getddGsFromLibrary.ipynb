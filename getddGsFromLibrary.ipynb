{
 "cells": [
  {
   "cell_type": "code",
   "execution_count": null,
   "id": "ef05102d",
   "metadata": {},
   "outputs": [],
   "source": [
    "#!pip install pyrosettacolabsetup\n",
    "#import pyrosettacolabsetup; pyrosettacolabsetup.install_pyrosetta()\n",
    "#import pyrosetta; pyrosetta.init()"
   ]
  },
  {
   "cell_type": "code",
   "execution_count": 1,
   "id": "04a0b627",
   "metadata": {},
   "outputs": [
    {
     "name": "stdout",
     "output_type": "stream",
     "text": [
      "PyRosetta-4 2023 [Rosetta PyRosetta4.Release.python310.mac 2023.09+release.4388618b1eca659a3639409d10b8ad7f5d83d79d 2023-03-02T07:14:04] retrieved from: http://www.pyrosetta.org\n",
      "(C) Copyright Rosetta Commons Member Institutions. Created in JHU by Sergey Lyskov and PyRosetta Team.\n",
      "core.init: Checking for fconfig files in pwd and ./rosetta/flags\n",
      "core.init: Rosetta version: PyRosetta4.Release.python310.mac r341 2023.09+release.4388618b1ec 4388618b1eca659a3639409d10b8ad7f5d83d79d http://www.pyrosetta.org 2023-03-02T07:14:04\n",
      "core.init: command: PyRosetta -ex1 -ex2aro -database /opt/anaconda3/envs/bioadri/lib/python3.10/site-packages/pyrosetta-2023.9+release.4388618b1ec-py3.10-macosx-10.9-x86_64.egg/pyrosetta/database\n",
      "basic.random.init_random_generator: 'RNG device' seed mode, using '/dev/urandom', seed=-331748629 seed_offset=0 real_seed=-331748629\n",
      "basic.random.init_random_generator: RandomGenerator:init: Normal mode, seed=-331748629 RG_type=mt19937\n",
      "PyRosetta-4 2023 [Rosetta PyRosetta4.Release.python310.mac 2023.09+release.4388618b1eca659a3639409d10b8ad7f5d83d79d 2023-03-02T07:14:04] retrieved from: http://www.pyrosetta.org\n",
      "(C) Copyright Rosetta Commons Member Institutions. Created in JHU by Sergey Lyskov and PyRosetta Team.\n",
      "core.init: Checking for fconfig files in pwd and ./rosetta/flags\n",
      "core.init: Rosetta version: PyRosetta4.Release.python310.mac r341 2023.09+release.4388618b1ec 4388618b1eca659a3639409d10b8ad7f5d83d79d http://www.pyrosetta.org 2023-03-02T07:14:04\n",
      "core.init: command: PyRosetta -ex1 -ex2aro -database /opt/anaconda3/envs/bioadri/lib/python3.10/site-packages/pyrosetta-2023.9+release.4388618b1ec-py3.10-macosx-10.9-x86_64.egg/pyrosetta/database\n",
      "basic.random.init_random_generator: 'RNG device' seed mode, using '/dev/urandom', seed=2002061800 seed_offset=0 real_seed=2002061800\n",
      "basic.random.init_random_generator: RandomGenerator:init: Normal mode, seed=2002061800 RG_type=mt19937\n"
     ]
    }
   ],
   "source": [
    "from pyrosetta import *\n",
    "from pyrosetta.toolbox import *\n",
    "pyrosetta.init()\n",
    "init()"
   ]
  },
  {
   "cell_type": "code",
   "execution_count": 2,
   "id": "258fc044",
   "metadata": {},
   "outputs": [
    {
     "name": "stdout",
     "output_type": "stream",
     "text": [
      "A3_lib-_adriana-T7-Term.ab1        Untitled.ipynb\n",
      "A3_lib-_adriana-T7-Term.fa         deepDarwin-Tools.py\n",
      "A3_lib-_adriana-T7-Term.tsv        distanceMapFromPDBFile-Copy1.ipynb\n",
      "\u001b[1m\u001b[36mPDBs\u001b[m\u001b[m                               distanceMapFromPDBFile.ipynb\n",
      "QCC-DistributionOfLibrary.ipynb    getddGsFromLibrary.ipynb\n",
      "README.md                          logo_plots.csv\n",
      "core.chemical.GlobalResidueTypeSet: Finished initializing fa_standard residue type set.  Created 985 residue types\n",
      "core.chemical.GlobalResidueTypeSet: Total time to initialize 0.734096 seconds.\n",
      "core.import_pose.import_pose: File 'PDBs/NIR_relaxed_iGLU_no_H6X.pdb' automatically determined to be of type PDB\n",
      "core.conformation.Conformation: Found disulfide between residues 84 209\n",
      "core.conformation.Conformation: current variant for 84 CYS\n",
      "core.conformation.Conformation: current variant for 209 CYS\n",
      "core.conformation.Conformation: current variant for 84 CYD\n",
      "core.conformation.Conformation: current variant for 209 CYD\n"
     ]
    }
   ],
   "source": [
    "sites = []\n",
    "!ls\n",
    "initialPose = pose_from_pdb('PDBs/NIR_relaxed_iGLU_no_H6X.pdb')\n",
    "aminoacids = ['G', 'A','R','N','C','Q','E','H','I','L','K','M','F','P','S','T','W','Y','V']"
   ]
  },
  {
   "cell_type": "code",
   "execution_count": null,
   "id": "8f8095a5",
   "metadata": {},
   "outputs": [],
   "source": [
    "for aa in aminoacids:\n",
    "    #mutation #1\n",
    "    #pyrosetta.toolbox.mutants.mutate_residue(pack_or_pose, mutant_position, mutant_aa, pack_radius=0.0, pack_scorefxn=None)\n",
    "    pyrosetta.toolbox.mutants.mutate_residue(initialPose, position, aa)\n",
    "    \n",
    "    for aa in aminoacids:\n",
    "        \n",
    "        #mutation #2"
   ]
  },
  {
   "cell_type": "code",
   "execution_count": null,
   "id": "05f6117d",
   "metadata": {},
   "outputs": [],
   "source": [
    "20**28"
   ]
  },
  {
   "cell_type": "code",
   "execution_count": null,
   "id": "37c7d0e5",
   "metadata": {},
   "outputs": [
    {
     "name": "stdout",
     "output_type": "stream",
     "text": [
      "core.scoring.ScoreFunctionFactory: SCOREFUNCTION: ref2015\n",
      "core.scoring.etable: Starting energy table calculation\n",
      "core.scoring.etable: smooth_etable: changing atr/rep split to bottom of energy well\n",
      "core.scoring.etable: smooth_etable: spline smoothing lj etables (maxdis = 6)\n",
      "core.scoring.etable: smooth_etable: spline smoothing solvation etables (max_dis = 6)\n",
      "core.scoring.etable: Finished calculating energy tables.\n",
      "basic.io.database: Database file opened: scoring/score_functions/hbonds/ref2015_params/HBPoly1D.csv\n",
      "basic.io.database: Database file opened: scoring/score_functions/hbonds/ref2015_params/HBFadeIntervals.csv\n",
      "basic.io.database: Database file opened: scoring/score_functions/hbonds/ref2015_params/HBEval.csv\n",
      "basic.io.database: Database file opened: scoring/score_functions/hbonds/ref2015_params/DonStrength.csv\n",
      "basic.io.database: Database file opened: scoring/score_functions/hbonds/ref2015_params/AccStrength.csv\n",
      "basic.io.database: Database file opened: scoring/score_functions/rama/fd/all.ramaProb\n",
      "basic.io.database: Database file opened: scoring/score_functions/rama/fd/prepro.ramaProb\n",
      "basic.io.database: Database file opened: scoring/score_functions/omega/omega_ppdep.all.txt\n",
      "basic.io.database: Database file opened: scoring/score_functions/omega/omega_ppdep.gly.txt\n",
      "basic.io.database: Database file opened: scoring/score_functions/omega/omega_ppdep.pro.txt\n",
      "basic.io.database: Database file opened: scoring/score_functions/omega/omega_ppdep.valile.txt\n",
      "basic.io.database: Database file opened: scoring/score_functions/P_AA_pp/P_AA\n",
      "basic.io.database: Database file opened: scoring/score_functions/P_AA_pp/P_AA_n\n",
      "core.scoring.P_AA: shapovalov_lib::shap_p_aa_pp_smooth_level of 1( aka low_smooth ) got activated.\n",
      "basic.io.database: Database file opened: scoring/score_functions/P_AA_pp/shapovalov/10deg/kappa131/a20.prop\n",
      "core.pack.task: Packer task: initialize from command line()\n",
      "basic.io.database: Database file opened: scoring/score_functions/elec_cp_reps.dat\n",
      "core.scoring.elec.util: Read 40 countpair representative atoms\n",
      "core.pack.dunbrack.RotamerLibrary: shapovalov_lib_fixes_enable option is true.\n",
      "core.pack.dunbrack.RotamerLibrary: shapovalov_lib::shap_dun10_smooth_level of 1( aka lowest_smooth ) got activated.\n",
      "core.pack.dunbrack.RotamerLibrary: Binary rotamer library selected: /opt/anaconda3/envs/bioadri/lib/python3.10/site-packages/pyrosetta-2023.9+release.4388618b1ec-py3.10-macosx-10.9-x86_64.egg/pyrosetta/database/rotamer/shapovalov/StpDwn_0-0-0/Dunbrack10.lib.bin\n",
      "core.pack.dunbrack.RotamerLibrary: Using Dunbrack library binary file '/opt/anaconda3/envs/bioadri/lib/python3.10/site-packages/pyrosetta-2023.9+release.4388618b1ec-py3.10-macosx-10.9-x86_64.egg/pyrosetta/database/rotamer/shapovalov/StpDwn_0-0-0/Dunbrack10.lib.bin'.\n",
      "core.pack.dunbrack.RotamerLibrary: Dunbrack 2010 library took 0.15612 seconds to load from binary\n",
      "core.pack.pack_rotamers: built 1 rotamers at 1 positions.\n",
      "core.pack.interaction_graph.interaction_graph_factory: Instantiating DensePDInteractionGraph\n",
      "core.scoring.ScoreFunctionFactory: SCOREFUNCTION: ref2015\n",
      "core.pack.task: Packer task: initialize from command line()\n",
      "core.pack.pack_rotamers: built 1 rotamers at 1 positions.\n"
     ]
    }
   ],
   "source": [
    "poseMut1 = pyrosetta.toolbox.mutants.mutate_residue(initialPose, 3+250, 'A')\n",
    "poseMut2 = pyrosetta.toolbox.mutants.mutate_residue(initialPose, 152+250, 'A')\n",
    "ddg = pyrosetta.rosetta.protocols.ddg.ddGMover()\n",
    "my_ddG = ddg.apply(initialPose)"
   ]
  },
  {
   "cell_type": "code",
   "execution_count": null,
   "id": "2909fbdd",
   "metadata": {},
   "outputs": [],
   "source": []
  }
 ],
 "metadata": {
  "kernelspec": {
   "display_name": "Python 3 (ipykernel)",
   "language": "python",
   "name": "python3"
  },
  "language_info": {
   "codemirror_mode": {
    "name": "ipython",
    "version": 3
   },
   "file_extension": ".py",
   "mimetype": "text/x-python",
   "name": "python",
   "nbconvert_exporter": "python",
   "pygments_lexer": "ipython3",
   "version": "3.10.9"
  }
 },
 "nbformat": 4,
 "nbformat_minor": 5
}
